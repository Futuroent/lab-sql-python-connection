{
 "cells": [
  {
   "cell_type": "code",
   "execution_count": 29,
   "id": "6a222483-3801-4047-bef6-863c04f22848",
   "metadata": {},
   "outputs": [
    {
     "name": "stdout",
     "output_type": "stream",
     "text": [
      "Requirement already satisfied: sqlalchemy in /opt/anaconda3/lib/python3.12/site-packages (2.0.32)\n",
      "Requirement already satisfied: pandas in /opt/anaconda3/lib/python3.12/site-packages (2.2.2)\n",
      "Requirement already satisfied: typing-extensions>=4.6.0 in /opt/anaconda3/lib/python3.12/site-packages (from sqlalchemy) (4.11.0)\n",
      "Requirement already satisfied: numpy>=1.26.0 in /opt/anaconda3/lib/python3.12/site-packages (from pandas) (1.26.4)\n",
      "Requirement already satisfied: python-dateutil>=2.8.2 in /opt/anaconda3/lib/python3.12/site-packages (from pandas) (2.9.0.post0)\n",
      "Requirement already satisfied: pytz>=2020.1 in /opt/anaconda3/lib/python3.12/site-packages (from pandas) (2024.1)\n",
      "Requirement already satisfied: tzdata>=2022.7 in /opt/anaconda3/lib/python3.12/site-packages (from pandas) (2023.3)\n",
      "Requirement already satisfied: six>=1.5 in /opt/anaconda3/lib/python3.12/site-packages (from python-dateutil>=2.8.2->pandas) (1.16.0)\n",
      "Note: you may need to restart the kernel to use updated packages.\n"
     ]
    }
   ],
   "source": [
    "pip install sqlalchemy pandas"
   ]
  },
  {
   "cell_type": "code",
   "execution_count": 31,
   "id": "4324342b-726f-4c9f-94a9-b0ea38ad3391",
   "metadata": {},
   "outputs": [],
   "source": [
    "from sqlalchemy import create_engine\n",
    "import pandas as pd\n",
    "\n",
    "DATABASE_TYPE = 'mysql'  \n",
    "DBAPI = 'pymysql'  \n",
    "HOST = 'localhost' \n",
    "USER = 'root'\n",
    "PASSWORD = 'Emilia-2024'\n",
    "DATABASE = 'sakila'\n",
    "\n",
    "# Creating the engine\n",
    "engine = create_engine(f'{DATABASE_TYPE}+{DBAPI}://{USER}:{PASSWORD}@{HOST}/{DATABASE}')\n"
   ]
  },
  {
   "cell_type": "code",
   "execution_count": 33,
   "id": "2e513b02-1be3-4029-b830-b0e8f451422a",
   "metadata": {},
   "outputs": [],
   "source": [
    "def rentals_month(engine, month, year):\n",
    "    query = f\"\"\"\n",
    "    SELECT rental_id, rental_date, customer_id, return_date, staff_id, inventory_id\n",
    "    FROM rental\n",
    "    WHERE MONTH(rental_date) = {month} AND YEAR(rental_date) = {year};\n",
    "    \"\"\"\n",
    "    df = pd.read_sql(query, engine)\n",
    "    return df\n"
   ]
  },
  {
   "cell_type": "code",
   "execution_count": 35,
   "id": "d38dd826-b7db-4be1-8486-f632ea56ccee",
   "metadata": {},
   "outputs": [],
   "source": [
    "def rental_count_month(df, month, year):\n",
    "    rental_count = df.groupby('customer_id').size().reset_index(name=f'rentals_{month:02d}_{year}')\n",
    "    return rental_count\n"
   ]
  },
  {
   "cell_type": "code",
   "execution_count": 37,
   "id": "20f08821-5fb1-4ea4-aa89-1f87688b5d18",
   "metadata": {},
   "outputs": [],
   "source": [
    "def compare_rentals(df1, df2):\n",
    "    combined_df = pd.merge(df1, df2, on='customer_id', how='outer').fillna(0)\n",
    "    \n",
    "    combined_df['difference'] = combined_df.iloc[:, 1] - combined_df.iloc[:, 2]\n",
    "    \n",
    "    return combined_df\n"
   ]
  },
  {
   "cell_type": "code",
   "execution_count": 39,
   "id": "d1724ed2-829e-4d01-b6d9-47d3479e307c",
   "metadata": {},
   "outputs": [
    {
     "name": "stdout",
     "output_type": "stream",
     "text": [
      "     customer_id  rentals_05_2005  rentals_06_2005  difference\n",
      "0              1              2.0              7.0        -5.0\n",
      "1              2              1.0              1.0         0.0\n",
      "2              3              2.0              4.0        -2.0\n",
      "3              4              0.0              6.0        -6.0\n",
      "4              5              3.0              5.0        -2.0\n",
      "..           ...              ...              ...         ...\n",
      "593          595              1.0              2.0        -1.0\n",
      "594          596              6.0              2.0         4.0\n",
      "595          597              2.0              3.0        -1.0\n",
      "596          598              0.0              1.0        -1.0\n",
      "597          599              1.0              4.0        -3.0\n",
      "\n",
      "[598 rows x 4 columns]\n"
     ]
    }
   ],
   "source": [
    "may_rentals = rentals_month(engine, 5, 2005)\n",
    "june_rentals = rentals_month(engine, 6, 2005)\n",
    "\n",
    "may_rental_counts = rental_count_month(may_rentals, 5, 2005)\n",
    "june_rental_counts = rental_count_month(june_rentals, 6, 2005)\n",
    "\n",
    "comparison = compare_rentals(may_rental_counts, june_rental_counts)\n",
    "\n",
    "print(comparison)\n"
   ]
  },
  {
   "cell_type": "code",
   "execution_count": null,
   "id": "5939527f-6d80-4dd7-87ac-cd453c826f91",
   "metadata": {},
   "outputs": [],
   "source": []
  }
 ],
 "metadata": {
  "kernelspec": {
   "display_name": "Python 3 (ipykernel)",
   "language": "python",
   "name": "python3"
  },
  "language_info": {
   "codemirror_mode": {
    "name": "ipython",
    "version": 3
   },
   "file_extension": ".py",
   "mimetype": "text/x-python",
   "name": "python",
   "nbconvert_exporter": "python",
   "pygments_lexer": "ipython3",
   "version": "3.12.4"
  }
 },
 "nbformat": 4,
 "nbformat_minor": 5
}
